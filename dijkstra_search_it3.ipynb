{
 "cells": [
  {
   "cell_type": "markdown",
   "metadata": {},
   "source": [
    "Importing libraries"
   ]
  },
  {
   "cell_type": "code",
   "execution_count": 1,
   "metadata": {},
   "outputs": [],
   "source": [
    "import numpy as np\n",
    "import sympy as sp\n",
    "import os\n",
    "from queue import PriorityQueue\n",
    "import matplotlib.pyplot as mp"
   ]
  },
  {
   "cell_type": "markdown",
   "metadata": {},
   "source": [
    "Note: workspace is a rectangle of width b = 400 mm and height h = 250 mm"
   ]
  },
  {
   "cell_type": "markdown",
   "metadata": {},
   "source": [
    "Variables:\n",
    "C2C\n",
    "C2G\n",
    "closed_list\n",
    "open _list\n",
    "initial_node\n",
    "goal_node\n",
    "obstacle_space usign matrix and geometric equations\n",
    "action_set --> N(1),S(1), E(1), W(1), NE(1.5), NW, SE, SW\n",
    "\n"
   ]
  },
  {
   "cell_type": "markdown",
   "metadata": {},
   "source": [
    "Data set for each node (can be changed)"
   ]
  },
  {
   "cell_type": "markdown",
   "metadata": {},
   "source": [
    "Creating the workspace with all default values as once"
   ]
  },
  {
   "cell_type": "code",
   "execution_count": 2,
   "metadata": {},
   "outputs": [],
   "source": [
    "\n",
    "#node size ratio (unit/node)\n",
    "def map():\n",
    "    global x_size, y_size, map_def, Rat\n",
    "    Rat = 1 #unit per node\n",
    "    x_size = int(400/Rat)\n",
    "    y_size = int(250/Rat)\n",
    "    map_def = np.zeros(x_size*y_size)\n",
    "    map_def = np.reshape(map_def,(y_size,x_size))\n",
    "    map_def[:,:] = -2"
   ]
  },
  {
   "cell_type": "markdown",
   "metadata": {},
   "source": [
    "Defining obstacle space\n",
    "\n",
    "Correct the equations"
   ]
  },
  {
   "cell_type": "markdown",
   "metadata": {},
   "source": [
    "Circle"
   ]
  },
  {
   "cell_type": "code",
   "execution_count": 3,
   "metadata": {},
   "outputs": [],
   "source": [
    "#x is colum and y is row\n",
    "def circle_obs():\n",
    "    global x_c, y_c, x_nc, y_nc, map_obs1, listofallpointsformap\n",
    "    x_c = []\n",
    "    y_c = []\n",
    "    x_nc = []\n",
    "    y_nc = []\n",
    "    y_centre = int((249 - 65)/Rat)\n",
    "    x_centre = int((399 - 100)/Rat)\n",
    "    radius_c = int(45/Rat)\n",
    "    radius = int(40/Rat)\n",
    "    map_obs1 = np.copy(map_def)\n",
    "    for x in range(int(250/Rat),int(350/Rat)):\n",
    "        for y in range(int(125/Rat), int(235/Rat)):\n",
    "            if (np.sqrt((x-x_centre)**2 + (y-y_centre)**2)) < radius_c:\n",
    "                map_obs1[y, x] = -1\n",
    "                x_c.append(x)\n",
    "                y_c.append(y)\n",
    "                listofallpointsformap.append([x,y])\n",
    "            if (np.sqrt((x-x_centre)**2 + (y-y_centre)**2)) < radius:\n",
    "                x_nc.append(x)\n",
    "                y_nc.append(y)\n"
   ]
  },
  {
   "cell_type": "markdown",
   "metadata": {},
   "source": [
    "Triangles"
   ]
  },
  {
   "cell_type": "code",
   "execution_count": 4,
   "metadata": {},
   "outputs": [],
   "source": [
    "def triang_obs():\n",
    "    global x_t1, y_t1, x_t1_nc, y_t1_nc, map_obs2, x_t2_nc, y_t2_nc, x_t2, y_t2, listofallpointsformap\n",
    "    y1 = sp.symbols('y1')\n",
    "    x1 = sp.symbols('x1')\n",
    "    y2 = sp.symbols('y2')\n",
    "    x2 = sp.symbols('x2')\n",
    "    y3 = sp.symbols('y3')\n",
    "    x3 = sp.symbols('x3')\n",
    "    y4 = sp.symbols('y4')\n",
    "    x4 = sp.symbols('x4')\n",
    "    y5 = sp.symbols('y5')\n",
    "    x5 = sp.symbols('x5')\n",
    "\n",
    "    e1 = y1 - (-5/54)*x1 - 187.87\n",
    "    e1_nc = y1 - (-1/9)*x1 - 1700/9\n",
    "    e2 = y2 - (-90/74)*x2 - 222.7\n",
    "    e2_nc = y2 - (-85/69)*x2 - 15671/69\n",
    "    e3 = y3 - (-85/20)*x3 - 541.25\n",
    "    e3_nc = y3 - (-16/5)*x3 - 2159/5\n",
    "    e4 = y4 -x4 -95\n",
    "    e4_nc = y4 - (6/7)*x4 - 779/7\n",
    "    e5 = y5 - (30/89)*x5 - 174.5\n",
    "    e5_nc = y5 - (25/79)*x5 - 13661/79\n",
    "    x_t1 = []\n",
    "    y_t1 = []\n",
    "    x_t2 = []\n",
    "    y_t2 = []\n",
    "    x_t1_nc = []\n",
    "    y_t1_nc = []\n",
    "    x_t2_nc = []\n",
    "    y_t2_nc = []\n",
    "    map_obs2 = np.copy(map_obs1)\n",
    "    for x in range(int(140/Rat)):\n",
    "        for y in range(int(80/Rat),int(220/Rat)):\n",
    "            if e1.subs([(x1,x),(y1,y)])<=0 and e2.subs([(x2,x),(y2,y)])>=0 and e3.subs([(x3,x),(y3,y)])<=0 :\n",
    "                map_obs2[y,x] = -1\n",
    "                x_t1.append(x)\n",
    "                y_t1.append(y)\n",
    "                listofallpointsformap.append([x,y])\n",
    "            if e1_nc.subs([(x1,x),(y1,y)])<=0 and e2_nc.subs([(x2,x),(y2,y)])>=0 and e3_nc.subs([(x3,x),(y3,y)])<=0 :\n",
    "                x_t1_nc.append(x)\n",
    "                y_t1_nc.append(y)\n",
    "            if e1.subs([(x1,x),(y1,y)])>=0 and e4.subs([(x4,x),(y4,y)])>=0 and e5.subs([(x5,x),(y5,y)])<=0:\n",
    "                map_obs2[y,x] = -1\n",
    "                x_t2.append(x)\n",
    "                y_t2.append(y)\n",
    "                listofallpointsformap.append([x,y])\n",
    "            if e1_nc.subs([(x1,x),(y1,y)])>=0 and e4_nc.subs([(x4,x),(y4,y)])>=0 and e5_nc.subs([(x5,x),(y5,y)])<=0:\n",
    "                x_t2_nc.append(x)\n",
    "                y_t2_nc.append(y)\n"
   ]
  },
  {
   "cell_type": "markdown",
   "metadata": {},
   "source": [
    "Chekc the clearance again\n",
    "\n",
    "Hexagon"
   ]
  },
  {
   "cell_type": "code",
   "execution_count": 5,
   "metadata": {},
   "outputs": [],
   "source": [
    "def hex_obs():\n",
    "    global map_obs4, x_h, y_h, x_h_nc, y_h_nc, listofallpointsformap\n",
    "    y6 = sp.symbols('y6')\n",
    "    x6 = sp.symbols('x6')\n",
    "    y7 = sp.symbols('y7')\n",
    "    x7 = sp.symbols('x7')\n",
    "    y8 = sp.symbols('y8')\n",
    "    x8 = sp.symbols('x8')\n",
    "    y9 = sp.symbols('y9')\n",
    "    x9 = sp.symbols('x9')\n",
    "    x10 = sp.symbols('x10')\n",
    "    x11 = sp.symbols('x11')\n",
    "\n",
    "    e6 = y6 - (5/8)*x6 + 71\n",
    "    e6_nc = y6 - (4/7)*x6 + 380/7\n",
    "    e10 = x10 - 239\n",
    "    e10_nc = x10 - 234\n",
    "    e7 = y7 + (5/8)*x7 - 271\n",
    "    e7_nc = y7 + (4/7)*x7 - 1780/7\n",
    "    e8 = y8 - (5/8)*x8 - 21\n",
    "    e8_nc = y8 - (4/7)*x8 - 180/7\n",
    "    e11 = x11 - 160\n",
    "    e11_nc = x11 - 164\n",
    "    e9 = y9 + (5/8)*x9 - 179\n",
    "    e9_nc = y9 + (4/7)*x9 - 1220/7\n",
    "    x_h = []\n",
    "    y_h = []\n",
    "    x_h_nc = []\n",
    "    y_h_nc = []\n",
    "    map_obs4 = np.copy(map_obs2)\n",
    "    for x in range(int(150/Rat), int(250/Rat)):\n",
    "        for y in range(int(50/Rat),int(155/Rat)):\n",
    "            if e6.subs([(x6,x),(y6,y)])>=0 and e7.subs([(x7,x),(y7,y)])<=0 and e8.subs([(x8,x),(y8,y)])<=0 and e9.subs([(x9,x),(y9,y)])>=0 and e10.subs([(x10,x)])<=0 and e11.subs([(x11,x)])>=0:\n",
    "                map_obs4[y,x] = -1\n",
    "                x_h.append(x)\n",
    "                y_h.append(y)\n",
    "                listofallpointsformap.append([x,y])\n",
    "            if e6_nc.subs([(x6,x),(y6,y)])>=0 and e7_nc.subs([(x7,x),(y7,y)])<=0 and e8_nc.subs([(x8,x),(y8,y)])<=0 and e9_nc.subs([(x9,x),(y9,y)])>=0 and e10_nc.subs([(x10,x)])<=0 and e11_nc.subs([(x11,x)])>=0:\n",
    "                x_h_nc.append(x)\n",
    "                y_h_nc.append(y)\n"
   ]
  },
  {
   "cell_type": "markdown",
   "metadata": {},
   "source": []
  },
  {
   "cell_type": "markdown",
   "metadata": {},
   "source": [
    "The main algorithm"
   ]
  },
  {
   "cell_type": "markdown",
   "metadata": {},
   "source": [
    "Data structure"
   ]
  },
  {
   "cell_type": "code",
   "execution_count": 6,
   "metadata": {},
   "outputs": [],
   "source": [
    "class Node:\n",
    "    def __init__(self, node_id, node_loc, parent_id, cost):\n",
    "        self.parent_id = parent_id #\n",
    "        self.node_id = node_id #unique node id for each node\n",
    "        self.node_loc = node_loc\n",
    "        self.cost = round(cost,1)"
   ]
  },
  {
   "cell_type": "markdown",
   "metadata": {},
   "source": []
  },
  {
   "cell_type": "markdown",
   "metadata": {},
   "source": [
    "Creating required list for storing node information"
   ]
  },
  {
   "cell_type": "markdown",
   "metadata": {},
   "source": [
    "Initialize the goal node"
   ]
  },
  {
   "cell_type": "markdown",
   "metadata": {},
   "source": [
    "Remember x is column and y is rows, a is row and b is column"
   ]
  },
  {
   "cell_type": "markdown",
   "metadata": {},
   "source": [
    "2) Update the value at the matrix space to node id itself when visited"
   ]
  },
  {
   "cell_type": "markdown",
   "metadata": {},
   "source": [
    "moving north"
   ]
  },
  {
   "cell_type": "markdown",
   "metadata": {},
   "source": [
    "Getting the node to be explored from Open list"
   ]
  },
  {
   "cell_type": "code",
   "execution_count": 7,
   "metadata": {},
   "outputs": [],
   "source": [
    "def pop(Cl_list, Op_list, Al_list):\n",
    "    dat = Op_list.get()\n",
    "    Cl_list.append(All_list[dat[1]-1])\n",
    "    return Al_list[dat[1]-1], dat[0]\n",
    "#node = pop(Closed_list, Open_list)"
   ]
  },
  {
   "cell_type": "markdown",
   "metadata": {},
   "source": [
    "Cost Dictionary"
   ]
  },
  {
   "cell_type": "code",
   "execution_count": 8,
   "metadata": {},
   "outputs": [],
   "source": [
    "cost_direction = {'S': 1, 'D': 1.4}"
   ]
  },
  {
   "cell_type": "markdown",
   "metadata": {},
   "source": [
    "Parameter update"
   ]
  },
  {
   "cell_type": "code",
   "execution_count": 9,
   "metadata": {},
   "outputs": [],
   "source": [
    "def param(All_list, Open_list, map_obs4, cost_dir, c, d, node):\n",
    "     id = All_list[-1].node_id + 1\n",
    "     map_obs4[c,d] = id\n",
    "     cost = node.cost + cost_dir #cost_dir is a dictionary\n",
    "     \n",
    "     parent = node.node_id\n",
    "     loc = [c, d]\n",
    "     # print('node at id', id, 'cost is', cost, 'loc', loc)\n",
    "     All_list.append(Node(id, loc, parent, cost))\n",
    "     tup_new = [cost, id]\n",
    "     Open_list.put(tup_new)"
   ]
  },
  {
   "cell_type": "markdown",
   "metadata": {},
   "source": [
    "List cost update function"
   ]
  },
  {
   "cell_type": "code",
   "execution_count": 10,
   "metadata": {},
   "outputs": [],
   "source": [
    "def cost_update(nod, c ,d, All_list,  Closed_list, Open_list, map_obs4, cost_dir):\n",
    "     index = int(map_obs4[c, d])\n",
    "     if round((nod.cost + cost_dir),1)< round(All_list[index-1].cost,1): #since index/node_id is starting from 1\n",
    "            All_list[index-1].cost = round((nod.cost + cost_dir),1)\n",
    "            All_list[index-1].parent_id = nod.node_id\n",
    "            # print('updated cost of node', index, 'is', All_list[index-1].cost)\n",
    "            for i in Closed_list:\n",
    "                if i.node_id ==index:\n",
    "                        i.cost = round((nod.cost + cost_dir),1)\n",
    "                        i.parent_id = nod.node_id\n",
    "            if Open_list.qsize() > 0:\n",
    "                for j in Open_list.queue:\n",
    "                    if j[1] ==index:\n",
    "                            j[0] = round((nod.cost + cost_dir),1)\n",
    "                            # i.parent_id = nod.node_id  "
   ]
  },
  {
   "cell_type": "markdown",
   "metadata": {},
   "source": [
    "Check if goal function"
   ]
  },
  {
   "cell_type": "code",
   "execution_count": 11,
   "metadata": {},
   "outputs": [],
   "source": [
    "\n",
    "def check_if_goal(goal_loc, A_list, go_cost):\n",
    "    # print('checking goal')\n",
    "    if goal_loc==A_list[-1].node_loc:\n",
    "        go_cost = A_list[-1].cost #updates the goal cost\n",
    "        print('goal cost is', go_cost)\n",
    "        return go_cost\n",
    "    else:\n",
    "        return None\n"
   ]
  },
  {
   "cell_type": "code",
   "execution_count": 12,
   "metadata": {},
   "outputs": [],
   "source": [
    "#dat = open_list.get() , get the data from the priority queue\n",
    "# node = dat[1]\n",
    "def move_north(node, All_list, Open_list, go_co): #change the list names\n",
    "    a,b = 0,0\n",
    "    a, b = node.node_loc\n",
    "    if a < 249:\n",
    "        # print('going north')\n",
    "        c = a+1\n",
    "        d = b\n",
    "        if map_obs4[c,d]== -2:\n",
    "        #creating new node with new parameters\n",
    "        #make a function\n",
    "            param(All_list, Open_list, map_obs4, cost_direction['S'], c, d, node)\n",
    "            # print([a,b], 'to')\n",
    "            # print(All_list[-1].node_loc)\n",
    "            \n",
    "            return check_if_goal(goal_location, All_list, go_co)\n",
    "        \n",
    "        elif map_obs4[c,d]==-1:\n",
    "            # print('Obstacle space')\n",
    "            return None\n",
    "        \n",
    "        else:\n",
    "            cost_update(node, c ,d, All_list,  Closed_list, Open_list, map_obs4, cost_direction['S'])  \n",
    "            return None"
   ]
  },
  {
   "cell_type": "markdown",
   "metadata": {},
   "source": [
    "moving east"
   ]
  },
  {
   "cell_type": "code",
   "execution_count": 13,
   "metadata": {},
   "outputs": [],
   "source": [
    "def move_east(node, All_list, Open_list, go_co):\n",
    "    a,b = 0,0\n",
    "    a, b = node.node_loc\n",
    "    if b < 399:\n",
    "        c = a\n",
    "        d = b+1\n",
    "        if map_obs4[c, d]== -2:\n",
    "        #creating new node with new parameters\n",
    "        #make a function\n",
    "            # print('Easting')\n",
    "            param(All_list, Open_list, map_obs4, cost_direction['S'], c, d, node)\n",
    "            # print([a,b], 'to')\n",
    "            # print(All_list[-1].node_loc)\n",
    "            \n",
    "            return check_if_goal(goal_location, All_list, go_co)\n",
    "        \n",
    "        elif map_obs4[c,d]==-1:\n",
    "            # print('We are near obstacle space')\n",
    "            return None\n",
    "        \n",
    "        else:\n",
    "            cost_update(node, c ,d, All_list,  Closed_list, Open_list, map_obs4, cost_direction['S'])\n",
    "            return None"
   ]
  },
  {
   "cell_type": "markdown",
   "metadata": {},
   "source": [
    "moving west"
   ]
  },
  {
   "cell_type": "code",
   "execution_count": 14,
   "metadata": {},
   "outputs": [],
   "source": [
    "def move_west(node, All_list, Open_list, go_co):\n",
    "    a,b = 0,0\n",
    "    a, b = node.node_loc\n",
    "    if b > 0:\n",
    "        c = a\n",
    "        d = b-1\n",
    "        if map_obs4[c,d]== -2:\n",
    "        #creating new node with new parameters\n",
    "        #make a function\n",
    "            # print('westing')\n",
    "            param(All_list, Open_list, map_obs4, cost_direction['S'], c, d, node)\n",
    "            # print([a,b], 'to')\n",
    "            # print(All_list[-1].node_loc)\n",
    "            \n",
    "            return check_if_goal(goal_location, All_list, go_co) \n",
    "\n",
    "        elif map_obs4[c,d]==-1:\n",
    "            # print('We are near obstacle space')\n",
    "            return None\n",
    "        \n",
    "        else:\n",
    "            cost_update(node, c ,d, All_list,  Closed_list, Open_list, map_obs4, cost_direction['S'])\n",
    "            return None"
   ]
  },
  {
   "cell_type": "markdown",
   "metadata": {},
   "source": [
    "moving south"
   ]
  },
  {
   "cell_type": "code",
   "execution_count": 15,
   "metadata": {},
   "outputs": [],
   "source": [
    "def move_south(node, All_list, Open_list, go_co):\n",
    "    a,b = 0,0\n",
    "    a, b = node.node_loc\n",
    "    if a > 0:\n",
    "        c = a-1\n",
    "        d = b\n",
    "        if map_obs4[c,d]== -2:\n",
    "        #creating new node with new parameters\n",
    "        #make a function\n",
    "            # print('southing')\n",
    "            param(All_list, Open_list, map_obs4, cost_direction['S'], c, d, node)\n",
    "            # print([a,b], 'to')\n",
    "            # print(All_list[-1].node_loc)\n",
    "            \n",
    "            return check_if_goal(goal_location, All_list, go_co)\n",
    "        \n",
    "        elif map_obs4[c,d]==-1:\n",
    "            # print('Obstacle space')\n",
    "            return None\n",
    "        \n",
    "        else:\n",
    "            cost_update(node, c ,d, All_list,  Closed_list, Open_list, map_obs4, cost_direction['S'])\n",
    "            return None"
   ]
  },
  {
   "cell_type": "markdown",
   "metadata": {},
   "source": [
    "Moving north east"
   ]
  },
  {
   "cell_type": "code",
   "execution_count": 16,
   "metadata": {},
   "outputs": [],
   "source": [
    "def move_north_east(node, All_list, Open_list, go_co):\n",
    "    a,b = 0,0\n",
    "    a, b = node.node_loc\n",
    "    if a < 249 and b <399:\n",
    "        c = a + 1\n",
    "        d = b + 1\n",
    "        if map_obs4[c,d]== -2:\n",
    "        #creating new node with new parameters\n",
    "        #make a function\n",
    "            # print('north_easting')\n",
    "            param(All_list, Open_list, map_obs4, cost_direction['D'],c, d, node)\n",
    "            # print([a,b], 'to')\n",
    "            # print(All_list[-1].node_loc)\n",
    "            \n",
    "            return check_if_goal(goal_location, All_list, go_co)\n",
    "        \n",
    "        elif map_obs4[c,d]==-1:\n",
    "            # print('Obstacle space')\n",
    "            return None\n",
    "        \n",
    "        else:\n",
    "            cost_update(node, c ,d, All_list,  Closed_list, Open_list, map_obs4, cost_direction['D'])\n",
    "            return None"
   ]
  },
  {
   "cell_type": "markdown",
   "metadata": {},
   "source": [
    "Northwest"
   ]
  },
  {
   "cell_type": "code",
   "execution_count": 17,
   "metadata": {},
   "outputs": [],
   "source": [
    "def move_north_west(node, All_list, Open_list, go_co):\n",
    "    a,b = 0,0\n",
    "    a, b = node.node_loc\n",
    "    if a < 249 and b >0:\n",
    "        c = a + 1\n",
    "        d = b - 1\n",
    "        if map_obs4[c,d]== -2:\n",
    "        #creating new node with new parameters\n",
    "        #make a function\n",
    "            # print('north_westing')\n",
    "            param(All_list, Open_list, map_obs4, cost_direction['D'],c, d, node)\n",
    "            # print([a,b], 'to')\n",
    "            # print(All_list[-1].node_loc)\n",
    "            # check_if_goal(goal_location, All_list, goal_cost)\n",
    "            return check_if_goal(goal_location, All_list, go_co)\n",
    "        \n",
    "        elif map_obs4[c,d]==-1:\n",
    "            # print('Obstacle space')\n",
    "            return None\n",
    "        \n",
    "        else:\n",
    "            cost_update(node, c ,d, All_list,  Closed_list, Open_list, map_obs4, cost_direction['D'])\n",
    "            return None"
   ]
  },
  {
   "cell_type": "markdown",
   "metadata": {},
   "source": [
    "Southwest"
   ]
  },
  {
   "cell_type": "code",
   "execution_count": 18,
   "metadata": {},
   "outputs": [],
   "source": [
    "def move_south_west(node, All_list, Open_list, go_co):\n",
    "    a,b = 0,0\n",
    "    a, b = node.node_loc\n",
    "    if a > 0 and b >0:\n",
    "        c = a - 1\n",
    "        d = b - 1\n",
    "        if map_obs4[c,d]== -2:\n",
    "        #creating new node with new parameters\n",
    "        #make a function\n",
    "            # print('south_westing')\n",
    "            param(All_list, Open_list, map_obs4, cost_direction['D'],c, d, node)\n",
    "            # print([a,b], 'to')\n",
    "            # print(All_list[-1].node_loc)\n",
    "            # check_if_goal(goal_location, All_list, goal_cost)\n",
    "            return check_if_goal(goal_location, All_list, go_co)\n",
    "        \n",
    "        elif map_obs4[c,d]==-1:\n",
    "            # print('Obstacle space')\n",
    "            return None\n",
    "        \n",
    "        else:\n",
    "            cost_update(node, c ,d, All_list,  Closed_list, Open_list, map_obs4, cost_direction['D'])\n",
    "            return None"
   ]
  },
  {
   "cell_type": "markdown",
   "metadata": {},
   "source": [
    "Southeast"
   ]
  },
  {
   "cell_type": "code",
   "execution_count": 19,
   "metadata": {},
   "outputs": [],
   "source": [
    "def move_south_east(node, All_list, Open_list, go_co):\n",
    "    a,b = 0,0\n",
    "    a, b = node.node_loc\n",
    "    if a >0 and b <399:\n",
    "        c = a - 1\n",
    "        d = b + 1\n",
    "        if map_obs4[c,d]== -2:\n",
    "        #creating new node with new parameters\n",
    "        #make a function\n",
    "            # print('south_easting')\n",
    "            param(All_list, Open_list, map_obs4, cost_direction['D'], c, d, node)\n",
    "            # print([a,b], 'to')\n",
    "            # print(All_list[-1].node_loc)\n",
    "            # check_if_goal(goal_location, All_list, goal_cost)\n",
    "            return check_if_goal(goal_location, All_list, go_co)\n",
    "        \n",
    "        elif map_obs4[c,d]==-1:\n",
    "            # print('Obstacle space')\n",
    "            return None\n",
    "        \n",
    "        else:\n",
    "            cost_update(node, c ,d, All_list,  Closed_list, Open_list, map_obs4, cost_direction['D'])\n",
    "            return None"
   ]
  },
  {
   "cell_type": "code",
   "execution_count": 20,
   "metadata": {},
   "outputs": [],
   "source": [
    "def movement(node, All_list, Open_list, go_co):\n",
    "    go_co = None\n",
    "    if (move_north(node, All_list, Open_list, go_co))!=None:\n",
    "        go_co = All_list[-1].cost\n",
    "        # print('aya tha', go_co)\n",
    "    if (move_west(node, All_list, Open_list, go_co))!=None:\n",
    "        go_co = All_list[-1].cost\n",
    "        # print('aya tha', go_co)\n",
    "    if (move_south(node, All_list, Open_list, go_co))!=None:\n",
    "        go_co = All_list[-1].cost\n",
    "        # print('aya tha', go_co)\n",
    "    if (move_east(node, All_list, Open_list, go_co))!=None:\n",
    "        go_co = All_list[-1].cost\n",
    "        # print('aya tha', go_co)\n",
    "    if (move_north_east(node, All_list, Open_list, go_co))!=None:\n",
    "        go_co = All_list[-1].cost\n",
    "        # print('aya tha', go_co)\n",
    "    if (move_north_west(node, All_list, Open_list, go_co))!=None:\n",
    "        go_co = All_list[-1].cost\n",
    "        # print('aya tha', go_co)\n",
    "    if (move_south_east(node, All_list, Open_list, go_co))!=None:\n",
    "        go_co = All_list[-1].cost\n",
    "        # print('aya tha', go_co)\n",
    "    if (move_south_west(node, All_list, Open_list, go_co))!=None:\n",
    "        go_co = All_list[-1].cost        \n",
    "        # print('aya tha', go_co)\n",
    "    \n",
    "\n",
    "\n",
    "    return go_co\n",
    "      \n",
    "   \n",
    "    "
   ]
  },
  {
   "cell_type": "code",
   "execution_count": 21,
   "metadata": {},
   "outputs": [],
   "source": [
    "def backtrack(A_list, x, y):\n",
    "    ind = int(map_obs4[goal_location[0], goal_location[1]])\n",
    "    x.append(A_list[ind-1].node_loc[0])\n",
    "    y.append(A_list[ind-1].node_loc[1])\n",
    "    id = A_list[ind-1].parent_id\n",
    "    while(id>0):\n",
    "        x.append(A_list[id-1].node_loc[0])\n",
    "        y.append(A_list[id-1].node_loc[1])\n",
    "        id = A_list[id - 1].parent_id\n"
   ]
  },
  {
   "cell_type": "code",
   "execution_count": 22,
   "metadata": {},
   "outputs": [],
   "source": [
    "def initial():\n",
    "    global All_list, Closed_list, goal_location, Open_list, listofallpointsformap\n",
    "    listofallpointsformap = []\n",
    "    All_list = []\n",
    "    Closed_list = []\n",
    "    first_node_id = 1\n",
    "    start_cords_x = int(input(\"please enter the starting x coordinate: \"))\n",
    "    start_cords_y = int(input(\"please enter the starting x coordinate: \"))\n",
    "    if start_cords_x<1 or start_cords_x>400 or start_cords_y<1 or start_cords_y>400:\n",
    "        print(\"Either wrong input or the start node is in obstacle space\")\n",
    "        exit(0)\n",
    "    else:\n",
    "        node_loc = [start_cords_y-1, start_cords_x-1]\n",
    "    goal_cords_x = int(input(\"please enter the goal x coordinate: \"))\n",
    "    goal_cords_y = int(input(\"please enter the goal y coordinate: \"))\n",
    "    if goal_cords_x<1 or goal_cords_x>400 or goal_cords_y<1 or goal_cords_y>400:\n",
    "        print(\"Either wrong input or the goal node is in obstacle space\")\n",
    "        exit(0)\n",
    "    else:\n",
    "        goal_location = [goal_cords_y-1, goal_cords_x-1]\n",
    "    map()\n",
    "    circle_obs()\n",
    "    triang_obs()\n",
    "    hex_obs()\n",
    "    if map_obs4[start_cords_y-1, start_cords_x-1]==-1 or map_obs4[goal_cords_y-1, goal_cords_x-1]==-1:\n",
    "        print(\"start or goal node in obstacle space\")\n",
    "        exit(0)\n",
    "    else:\n",
    "        map_obs4[start_cords_y-1, start_cords_x-1] = first_node_id\n",
    "    first_parent_id = 0\n",
    "    first_cost = 0\n",
    "    \n",
    "    # O_list = []\n",
    "    All_list.append(Node(first_node_id, node_loc, first_parent_id, first_cost))\n",
    "    tup = [first_cost, first_node_id] # just the cost and node id, access the node using all visited and node id\n",
    "    Open_list = PriorityQueue()\n",
    "    Open_list.put(tup)\n",
    "    # O_list.append(tup) #list of tuples\n",
    "    # return [Node(node_id, node_loc, parent_id, cost)], tup"
   ]
  },
  {
   "cell_type": "markdown",
   "metadata": {},
   "source": [
    "Take the input from user"
   ]
  },
  {
   "cell_type": "code",
   "execution_count": 23,
   "metadata": {},
   "outputs": [
    {
     "name": "stdout",
     "output_type": "stream",
     "text": [
      "goal cost is 182.4\n",
      "mila na\n",
      "goal cost is 182.4\n",
      "cost exceeded\n"
     ]
    }
   ],
   "source": [
    "\n",
    "initial()\n",
    "# All_list = []\n",
    "# Closed_list = []\n",
    "# first_node_id = 1\n",
    "# start_cords_x = int(input(\"please enter the starting x coordinate: \"))\n",
    "# start_cords_y = int(input(\"please enter the starting x coordinate: \"))\n",
    "# if start_cords_x<1 or start_cords_x>400 or start_cords_y<1 or start_cords_y>400:\n",
    "#     print(\"Either wrong input or the start node is in obstacle space\")\n",
    "#     exit(0)\n",
    "# else:\n",
    "#     node_loc = [start_cords_y, start_cords_x]\n",
    "# goal_cords_x = int(input(\"please enter the goal x coordinate: \"))\n",
    "# goal_cords_y = int(input(\"please enter the goal y coordinate: \"))\n",
    "# if goal_cords_x<1 or goal_cords_x>400 or goal_cords_y<1 or goal_cords_y>400:\n",
    "#     print(\"Either wrong input or the goal node is in obstacle space\")\n",
    "#     exit(0)\n",
    "# else:\n",
    "#     goal_location = [goal_cords_y, goal_cords_x]\n",
    "# map()\n",
    "# circle_obs()\n",
    "# triang_obs()\n",
    "# hex_obs()\n",
    "# if map_obs4[start_cords_y, start_cords_x]==-1 or map_obs4[goal_cords_y, goal_cords_x]==-1:\n",
    "#     print(\"start or goal node in obstacle space\")\n",
    "#     exit(0)\n",
    "# else:\n",
    "#     map_obs4[0,0] = first_node_id\n",
    "# first_parent_id = 0\n",
    "# first_cost = 0\n",
    "\n",
    "# # O_list = []\n",
    "# All_list.append(Node(first_node_id, node_loc, first_parent_id, first_cost))\n",
    "# tup = [first_cost, first_node_id] # just the cost and node id, access the node using all visited and node id\n",
    "# Open_list = PriorityQueue()\n",
    "# Open_list.put(tup)\n",
    "\n",
    "goal_cost = 100000\n",
    "while(1):\n",
    "    if (Open_list.qsize()>0):\n",
    "        node, PQ_cost = pop(Closed_list, Open_list, All_list)\n",
    "        \n",
    "        if round(goal_cost,1)>round(PQ_cost,1):\n",
    "        # print('closed list', len(Closed_list))\n",
    "        # print('openlist', len(Open_list))\n",
    "            check = movement(node, All_list, Open_list, goal_cost)\n",
    "            # print('check is', check)\n",
    "            if(check!=None):\n",
    "                print('mila na')\n",
    "                goal_cost = All_list[int(map_obs4[goal_location[0],goal_location[1]]-1)].cost\n",
    "\n",
    "                print('goal cost is', goal_cost)\n",
    "        else:\n",
    "            print('cost exceeded')\n",
    "            break\n",
    "    \n",
    "    else:\n",
    "        print('open list empty')\n",
    "        break\n",
    "    \n",
    "       \n"
   ]
  },
  {
   "cell_type": "markdown",
   "metadata": {},
   "source": [
    "Backtracking"
   ]
  },
  {
   "cell_type": "code",
   "execution_count": 24,
   "metadata": {},
   "outputs": [
    {
     "data": {
      "image/png": "[encoded data removed]",
      "text/plain": [
       "<Figure size 432x288 with 1 Axes>"
      ]
     },
     "metadata": {
      "needs_background": "light"
     },
     "output_type": "display_data"
    }
   ],
   "source": [
    "if (map_obs4[goal_location[0], goal_location[1]]!=-1 and map_obs4[goal_location[0], goal_location[1]]!=-2 ):\n",
    "    x_a = []\n",
    "    y_a = []\n",
    "    backtrack(All_list, x_a, y_a)\n",
    "    mp.show()\n",
    "    mp.axis([0, 400, 0, 250])\n",
    "    mp.plot(y_a,x_a)\n",
    "    mp.plot(x_nc, y_nc)\n",
    "    mp.plot(x_t1_nc,y_t1_nc)\n",
    "    mp.plot(x_t2_nc,y_t2_nc)\n",
    "    mp.plot(x_h_nc,y_h_nc)\n",
    "else:\n",
    "    print('cannot be back tracked')"
   ]
  },
  {
   "cell_type": "markdown",
   "metadata": {},
   "source": [
    "Priority queueu has a problem with objects (try any other method): check once"
   ]
  },
  {
   "cell_type": "markdown",
   "metadata": {},
   "source": [
    "Put animation here"
   ]
  },
  {
   "cell_type": "code",
   "execution_count": 25,
   "metadata": {},
   "outputs": [
    {
     "data": {
      "text/plain": [
       "15013"
      ]
     },
     "execution_count": 25,
     "metadata": {},
     "output_type": "execute_result"
    }
   ],
   "source": [
    "len(listofallpointsformap)"
   ]
  },
  {
   "cell_type": "code",
   "execution_count": 26,
   "metadata": {},
   "outputs": [
    {
     "name": "stdout",
     "output_type": "stream",
     "text": [
      "pygame 2.1.2 (SDL 2.0.16, Python 3.7.11)\n",
      "Hello from the pygame community. https://www.pygame.org/contribute.html\n"
     ]
    }
   ],
   "source": [
    "import pygame\n",
    "import cv2\n",
    "import numpy as np\n",
    "#defining a blank canvas\n",
    "new_canvas = np.zeros((250,400,3),np.uint8)\n",
    "# listofallpointsformap = [] \n",
    "#for every point that belongs within the obstacle\n",
    "# listofallpointsformap.append([y_nc,x_nc])\n",
    "# listofallpointsformap.append([y_h_nc, x_h_nc]) \n",
    "# listofallpointsformap.append([y_t1_nc, x_t1_nc]) \n",
    "# listofallpointsformap.append[y_t2_nc, x_t2_nc]\n",
    "\n",
    "for c in listofallpointsformap: #change the name of the variable l\n",
    "    x = c[0]\n",
    "    y = c[1]\n",
    "    new_canvas[(y,x)]=[0,255,255] #assigning a yellow coloured pixel\n",
    "#flipping the image for correct orientation\n",
    "new_canvas = np.flipud(new_canvas)\n",
    "#making a copy for backtracking purpose\n",
    "new_canvas_copy_backtrack = new_canvas.copy()\n",
    "#making a copy for showing the visited nodes on the obstacle space\n",
    "#can be used for the animation\n",
    "new_canvas_copy_visited = new_canvas.copy()\n",
    "new_canvas_copy_visited = cv2.resize(new_canvas_copy_visited,(600,400))\n",
    "#showing the obstacle map\n",
    "cv2.imshow('new_canvas',new_canvas)\n",
    "cv2.waitKey(0)\n",
    "cv2.destroyAllWindows()\n"
   ]
  },
  {
   "cell_type": "code",
   "execution_count": null,
   "metadata": {},
   "outputs": [],
   "source": [
    "\n",
    "\n",
    "\n",
    "\n",
    "# pygame.init()\n",
    "\n",
    "# display_width = 300\n",
    "# display_height = 200\n",
    "\n",
    "# gameDisplay = pygame.display.set_mode((display_width,display_height),pygame.FULLSCREEN)\n",
    "# pygame.display.set_caption('Covered Nodes- Animation')\n",
    "\n",
    "# black = (0,0,0)\n",
    "# white = (0,255,255)\n",
    "# #new = np.array(new_canvas_copy_visited)\n",
    "# surf = pygame.surfarray.make_surface(new_canvas_copy_visited)\n",
    "\n",
    "# clock = pygame.time.Clock()\n",
    "# done = False\n",
    "# while not done:\n",
    "#     for event in pygame.event.get():   \n",
    "#         if event.type == pygame.QUIT:  \n",
    "#             done = True   \n",
    " \n",
    "#     gameDisplay.fill(black)\n",
    "#     for path in visited:\n",
    "#         if path not in new_canvas_copy_visited:\n",
    "#             #pygame.time.wait(1)\n",
    "#             #time.sleep(0.000005)\n",
    "#             x = path[0]\n",
    "#             y = abs(200-path[1])\n",
    "#             #gameDisplay.blit(surf, (x,y))\n",
    "#             #gameDisplay.fill(white)\n",
    "#             pygame.draw.rect(gameDisplay, white, [x,y,1,1])\n",
    "#             #pygame.time.wait(1)\n",
    "#             pygame.display.flip()\n",
    "#     for path in backtracked_final:\n",
    "        \n",
    "#         pygame.time.wait(5)\n",
    "#         #time.sleep(0.00005)\n",
    "#         x = path[0]\n",
    "#         y = abs(200-path[1])\n",
    "#         #gameDisplay.blit(surf, (x,y))\n",
    "#         #gameDisplay.fill(white)\n",
    "#         pygame.draw.rect(gameDisplay, (0,0,255), [x,y,1,1])\n",
    "#         #pygame.time.wait(1)\n",
    "#         pygame.display.flip()\n",
    "        \n",
    "#     #pygame.time.wait(14)\n",
    "#     done = True\n",
    "# pygame.quit()\n",
    "\n",
    "\n",
    "# # In[ ]:\n",
    "\n",
    "\n",
    "# #visited path\n",
    "# for path in visited:\n",
    "#     #print(path)\n",
    "#     x = path[0]\n",
    "#     y = path[1]\n",
    "#     new_canvas_copy_backtrack[(200-y,x)]=[255,0,0] #setting every backtracked pixel to white\n",
    "# #showing the final backtracked path\n",
    "# new_backtracked = cv2.resize(new_canvas_copy_backtrack,(600,400))\n",
    "# cv2.imshow('visited',new_backtracked)\n",
    "# cv2.waitKey(0)\n",
    "# cv2.destroyAllWindows()\n",
    "\n",
    "\n",
    "# # In[ ]:\n",
    "\n",
    "\n",
    "# #backtracked path\n",
    "# for path in backtracked_final:\n",
    "#     x = path[0]\n",
    "#     y = path[1]\n",
    "#     new_canvas_copy_backtrack[(200-y,x)]=[0,255,0] #setting every backtracked pixel to green\n",
    "# #showing the final backtracked path\n",
    "# new_backtracked = cv2.resize(new_canvas_copy_backtrack,(600,400))\n",
    "# cv2.imshow('new_backtracked',new_backtracked)\n",
    "# cv2.waitKey(0)\n",
    "# cv2.destroyAllWindows()"
   ]
  }
 ],
 "metadata": {
  "interpreter": {
   "hash": "8b5c35d15b809c09045a1a996ee0b9f033f76ea3bbc361928b80f8c62e83ba50"
  },
  "kernelspec": {
   "display_name": "Python 3.7.11 ('myenv')",
   "language": "python",
   "name": "python3"
  },
  "language_info": {
   "codemirror_mode": {
    "name": "ipython",
    "version": 3
   },
   "file_extension": ".py",
   "mimetype": "text/x-python",
   "name": "python",
   "nbconvert_exporter": "python",
   "pygments_lexer": "ipython3",
   "version": "3.7.11"
  },
  "orig_nbformat": 4
 },
 "nbformat": 4,
 "nbformat_minor": 2
}
